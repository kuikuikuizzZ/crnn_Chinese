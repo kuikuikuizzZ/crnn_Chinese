{
 "cells": [
  {
   "cell_type": "code",
   "execution_count": 1,
   "metadata": {},
   "outputs": [],
   "source": [
    "import pandas as pd\n",
    "import numpy \n",
    "import glob\n",
    "import os\n",
    "from PIL import Image\n",
    "import matplotlib.pyplot as plt\n",
    "%matplotlib inline"
   ]
  },
  {
   "cell_type": "code",
   "execution_count": 3,
   "metadata": {},
   "outputs": [],
   "source": [
    "df_train = pd.read_csv('../data/pytorch_densenet/competiton_final/train_f.csv')"
   ]
  },
  {
   "cell_type": "code",
   "execution_count": 4,
   "metadata": {},
   "outputs": [
    {
     "name": "stdout",
     "output_type": "stream",
     "text": [
      "('B1_1.png', '不是等比数列')\n"
     ]
    }
   ],
   "source": [
    "content = [i if type(i) is str else str(i) for i in df_train.content ]\n",
    "# content = [i for i in df_train.content if type(i) is str ]\n",
    "\n",
    "dict_file = list(zip(df_train.name,content))\n",
    "print(dict_file[1])"
   ]
  },
  {
   "cell_type": "code",
   "execution_count": 30,
   "metadata": {},
   "outputs": [
    {
     "data": {
      "text/plain": [
       "226"
      ]
     },
     "execution_count": 30,
     "metadata": {},
     "output_type": "execute_result"
    }
   ],
   "source": [
    "import re\n",
    "pattern = re.compile(r'^[a-zA-Z0-9]+$')\n",
    "pattern2 = re.compile(r'[0-9]*\\.?[0-9]+%?$')\n",
    "num_list = [(name,content) for name,content in dict_file if re.match(pattern2,content)]\n",
    "char_list = [(name,content) for name,content in dict_file if re.match(pattern,content)]\n",
    "len(num_list+char_list)"
   ]
  },
  {
   "cell_type": "code",
   "execution_count": null,
   "metadata": {},
   "outputs": [],
   "source": [
    "dst = '../data/pytorch_densenet/competiton_final/train_f/'\n",
    "save_dir = '../data/train_num_v1/'\n",
    "def gen_image(item):\n",
    "    name,content = item\n",
    "    img_PIL = Image.open(dst+name)\n",
    "    with open(save_dir+content.replace('/','&&') +'.txt', \"w\", encoding='utf-8') as f:\n",
    "        f.write(content)\n",
    "    img_PIL.save(save_dir+content.replace('/','&&') + '.png') \n",
    "#     print(content)\n",
    "    return img_PIL"
   ]
  },
  {
   "cell_type": "code",
   "execution_count": null,
   "metadata": {},
   "outputs": [],
   "source": [
    "item = list(dict_file)[11]\n",
    "result = gen_image(item)\n",
    "plt.imshow(result)"
   ]
  },
  {
   "cell_type": "code",
   "execution_count": null,
   "metadata": {},
   "outputs": [],
   "source": [
    "for item in dict_file[8000:10000]:\n",
    "    result = gen_image(item)"
   ]
  },
  {
   "cell_type": "code",
   "execution_count": null,
   "metadata": {},
   "outputs": [],
   "source": [
    "content = [i for i in df_train.content if type(i) is str]"
   ]
  },
  {
   "cell_type": "code",
   "execution_count": null,
   "metadata": {},
   "outputs": [],
   "source": [
    "len(dict_file)"
   ]
  },
  {
   "cell_type": "code",
   "execution_count": null,
   "metadata": {},
   "outputs": [],
   "source": [
    "len_list = [len(i) for _,i in dict_file if len(i) > 25]"
   ]
  },
  {
   "cell_type": "code",
   "execution_count": null,
   "metadata": {},
   "outputs": [],
   "source": [
    "len(len_list) / len(dict_file)"
   ]
  },
  {
   "cell_type": "code",
   "execution_count": null,
   "metadata": {},
   "outputs": [],
   "source": []
  }
 ],
 "metadata": {
  "kernelspec": {
   "display_name": "Python 3",
   "language": "python",
   "name": "python3"
  },
  "language_info": {
   "codemirror_mode": {
    "name": "ipython",
    "version": 3
   },
   "file_extension": ".py",
   "mimetype": "text/x-python",
   "name": "python",
   "nbconvert_exporter": "python",
   "pygments_lexer": "ipython3",
   "version": "3.5.2"
  }
 },
 "nbformat": 4,
 "nbformat_minor": 2
}
