{
 "cells": [
  {
   "cell_type": "code",
   "execution_count": 1,
   "metadata": {},
   "outputs": [],
   "source": [
    "import pandas as pd\n",
    "import numpy \n",
    "import glob\n",
    "import os\n",
    "from PIL import Image\n",
    "import matplotlib.pyplot as plt\n",
    "%matplotlib inline"
   ]
  },
  {
   "cell_type": "code",
   "execution_count": 88,
   "metadata": {},
   "outputs": [],
   "source": [
    "df_train = pd.read_csv('../data/pytorch_densenet/competiton_final/train_f.csv')"
   ]
  },
  {
   "cell_type": "code",
   "execution_count": 89,
   "metadata": {},
   "outputs": [
    {
     "name": "stdout",
     "output_type": "stream",
     "text": [
      "('B1_1.png', '不是等比数列')\n"
     ]
    }
   ],
   "source": [
    "content = [i if type(i) is str else str(i) for i in df_train.content ]\n",
    "# content = [i for i in df_train.content if type(i) is str ]\n",
    "\n",
    "dict_file = list(zip(df_train.name,content))\n",
    "print(dict_file[1])"
   ]
  },
  {
   "cell_type": "code",
   "execution_count": 135,
   "metadata": {},
   "outputs": [
    {
     "data": {
      "text/plain": [
       "[('B71_4.png', '48564061'),\n",
       " ('B170_2.png', '102000'),\n",
       " ('B335_8.png', '168000'),\n",
       " ('B390_11.png', '17264135'),\n",
       " ('B417_0.png', '29780380'),\n",
       " ('B566_1.png', '1738000'),\n",
       " ('B574_3.png', '92494231'),\n",
       " ('B715_0.png', '4494108'),\n",
       " ('B764_0.png', '11744109'),\n",
       " ('B1140_0.png', '50604003'),\n",
       " ('B1234_0.png', '5856392'),\n",
       " ('B1371_0.png', '89747512'),\n",
       " ('B1627_0.png', '23432084'),\n",
       " ('B1656_0.png', '121313141213151000'),\n",
       " ('B1668_4.png', '200000'),\n",
       " ('B1692_0.png', '200000'),\n",
       " ('B1692_1.png', '160000'),\n",
       " ('B1748_0.png', '34162067'),\n",
       " ('B1858_0.png', '11390059'),\n",
       " ('B2076_0.png', '11744193'),\n",
       " ('B2137_0.png', '23432086'),\n",
       " ('B2156_2.png', '130000000'),\n",
       " ('B2160_0.png', '66634047'),\n",
       " ('B2160_2.png', '666340'),\n",
       " ('B2219_4.png', '18884210'),\n",
       " ('B2268_10.png', '54794116'),\n",
       " ('B2334_7.png', '41544020'),\n",
       " ('B2357_0.png', '29780375'),\n",
       " ('B2388_0.png', '11744009'),\n",
       " ('B2391_0.png', '50140238'),\n",
       " ('B2438_0.png', '83934254'),\n",
       " ('B2529_0.png', '29780371'),\n",
       " ('B2598_0.png', '63594220'),\n",
       " ('B2650_0.png', '65084469'),\n",
       " ('B2695_0.png', '123456'),\n",
       " ('B2783_0.png', '68430020'),\n",
       " ('B2825_0.png', '23432097'),\n",
       " ('B3097_5.png', '253.08'),\n",
       " ('B3097_6.png', '2530.8'),\n",
       " ('B3098_8.png', '38480031'),\n",
       " ('B3132_3.png', '12131415101613100000'),\n",
       " ('B3132_4.png', '111617141319681000'),\n",
       " ('B3163_2.png', '222940013981608000'),\n",
       " ('T587_1.png', '5'),\n",
       " ('T597_1.png', '1'),\n",
       " ('T688_8.png', '1'),\n",
       " ('T688_10.png', '19'),\n",
       " ('T691_4.png', '16'),\n",
       " ('T724_9.png', '4'),\n",
       " ('T726_13.png', '4'),\n",
       " ('T743_7.png', '2'),\n",
       " ('T749_1.png', '33'),\n",
       " ('T767_9.png', '2'),\n",
       " ('T770_15.png', '2010'),\n",
       " ('T816_0.png', '26'),\n",
       " ('T835_8.png', '29'),\n",
       " ('T835_9.png', '40'),\n",
       " ('T836_6.png', '11906'),\n",
       " ('T845_8.png', '6'),\n",
       " ('T853_9.png', '2'),\n",
       " ('T853_10.png', '25'),\n",
       " ('T856_19.png', '0'),\n",
       " ('T884_3.png', '3'),\n",
       " ('T886_0.png', '3'),\n",
       " ('T886_4.png', '175'),\n",
       " ('T886_5.png', '4'),\n",
       " ('T886_9.png', '217'),\n",
       " ('T886_10.png', '5'),\n",
       " ('T886_14.png', '300'),\n",
       " ('T893_2.png', '3'),\n",
       " ('T998_3.png', '4'),\n",
       " ('T1045_5.png', '56'),\n",
       " ('T1112_9.png', '1'),\n",
       " ('T1115_5.png', '3'),\n",
       " ('T1129_3.png', '1'),\n",
       " ('T1139_4.png', '5'),\n",
       " ('T1172_5.png', '50'),\n",
       " ('T1172_6.png', '60'),\n",
       " ('T1172_7.png', '70'),\n",
       " ('T1172_8.png', '80'),\n",
       " ('B24_0.png', 'ADABBCCD'),\n",
       " ('B24_1.png', 'FGGHHE'),\n",
       " ('B71_4.png', '48564061'),\n",
       " ('B121_0.png', 'Paradise'),\n",
       " ('B170_2.png', '102000'),\n",
       " ('B335_8.png', '168000'),\n",
       " ('B370_0.png', 'ACCDAB'),\n",
       " ('B390_11.png', '17264135'),\n",
       " ('B417_0.png', '29780380'),\n",
       " ('B566_1.png', '1738000'),\n",
       " ('B574_3.png', '92494231'),\n",
       " ('B715_0.png', '4494108'),\n",
       " ('B764_0.png', '11744109'),\n",
       " ('B857_1.png', 'sinAsinC'),\n",
       " ('B1042_0.png', 'ABCDEF'),\n",
       " ('B1140_0.png', '50604003'),\n",
       " ('B1161_1.png', 'ABADAC'),\n",
       " ('B1175_2.png', 'ABCDEF'),\n",
       " ('B1234_0.png', '5856392'),\n",
       " ('B1371_0.png', '89747512'),\n",
       " ('B1441_0.png', 'ABCDEF'),\n",
       " ('B1578_8.png', 'DEFGHI'),\n",
       " ('B1627_0.png', '23432084'),\n",
       " ('B1656_0.png', '121313141213151000'),\n",
       " ('B1668_4.png', '200000'),\n",
       " ('B1692_0.png', '200000'),\n",
       " ('B1692_1.png', '160000'),\n",
       " ('B1748_0.png', '34162067'),\n",
       " ('B1858_0.png', '11390059'),\n",
       " ('B1886_0.png', 'ABCDEF'),\n",
       " ('B2076_0.png', '11744193'),\n",
       " ('B2137_0.png', '23432086'),\n",
       " ('B2156_2.png', '130000000'),\n",
       " ('B2160_0.png', '66634047'),\n",
       " ('B2160_2.png', '666340'),\n",
       " ('B2219_4.png', '18884210'),\n",
       " ('B2268_10.png', '54794116'),\n",
       " ('B2334_7.png', '41544020'),\n",
       " ('B2357_0.png', '29780375'),\n",
       " ('B2388_0.png', '11744009'),\n",
       " ('B2391_0.png', '50140238'),\n",
       " ('B2438_0.png', '83934254'),\n",
       " ('B2529_0.png', '29780371'),\n",
       " ('B2598_0.png', '63594220'),\n",
       " ('B2650_0.png', '65084469'),\n",
       " ('B2695_0.png', '123456'),\n",
       " ('B2783_0.png', '68430020'),\n",
       " ('B2825_0.png', '23432097'),\n",
       " ('B3098_8.png', '38480031'),\n",
       " ('B3120_1.png', 'ACCGAE'),\n",
       " ('B3132_3.png', '12131415101613100000'),\n",
       " ('B3132_4.png', '111617141319681000'),\n",
       " ('B3163_2.png', '222940013981608000'),\n",
       " ('T580_5.png', 'AD'),\n",
       " ('T580_6.png', 'BD'),\n",
       " ('T587_1.png', '5'),\n",
       " ('T597_1.png', '1'),\n",
       " ('T619_12.png', 'AE'),\n",
       " ('T619_14.png', 'EG'),\n",
       " ('T619_15.png', 'FG'),\n",
       " ('T619_16.png', 'GF'),\n",
       " ('T668_5.png', 'PC'),\n",
       " ('T668_6.png', 'CD'),\n",
       " ('T668_8.png', 'CE'),\n",
       " ('T688_8.png', '1'),\n",
       " ('T688_10.png', '19'),\n",
       " ('T691_4.png', '16'),\n",
       " ('T693_8.png', 'OA'),\n",
       " ('T723_4.png', 'y'),\n",
       " ('T724_9.png', '4'),\n",
       " ('T726_13.png', '4'),\n",
       " ('T743_7.png', '2'),\n",
       " ('T749_1.png', '33'),\n",
       " ('T767_9.png', '2'),\n",
       " ('T770_15.png', '2010'),\n",
       " ('T781_15.png', '2a'),\n",
       " ('T785_6.png', 'ABCD'),\n",
       " ('T795_7.png', 'x'),\n",
       " ('T799_1.png', 'k'),\n",
       " ('T799_2.png', '2x'),\n",
       " ('T816_0.png', '26'),\n",
       " ('T835_8.png', '29'),\n",
       " ('T835_9.png', '40'),\n",
       " ('T836_6.png', '11906'),\n",
       " ('T838_9.png', 'y'),\n",
       " ('T845_8.png', '6'),\n",
       " ('T853_9.png', '2'),\n",
       " ('T853_10.png', '25'),\n",
       " ('T856_19.png', '0'),\n",
       " ('T857_2.png', 'ABCDEF'),\n",
       " ('T864_12.png', 'PR'),\n",
       " ('T864_13.png', 'QE'),\n",
       " ('T881_4.png', 'AE'),\n",
       " ('T881_5.png', 'AF'),\n",
       " ('T881_6.png', 'CF'),\n",
       " ('T881_7.png', 'BF'),\n",
       " ('T884_3.png', '3'),\n",
       " ('T886_0.png', '3'),\n",
       " ('T886_4.png', '175'),\n",
       " ('T886_5.png', '4'),\n",
       " ('T886_9.png', '217'),\n",
       " ('T886_10.png', '5'),\n",
       " ('T886_14.png', '300'),\n",
       " ('T893_2.png', '3'),\n",
       " ('T900_0.png', 'ABC'),\n",
       " ('T942_7.png', 'F'),\n",
       " ('T949_4.png', 'NF'),\n",
       " ('T949_6.png', 'BM'),\n",
       " ('T949_7.png', 'MG'),\n",
       " ('T964_7.png', 'DF'),\n",
       " ('T964_8.png', 'AG'),\n",
       " ('T979_13.png', 'ACPDB'),\n",
       " ('T984_5.png', 'BC'),\n",
       " ('T984_6.png', 'AC'),\n",
       " ('T984_7.png', 'ED'),\n",
       " ('T984_8.png', 'AD'),\n",
       " ('T986_4.png', 'A'),\n",
       " ('T989_16.png', 'A'),\n",
       " ('T995_7.png', 'DE'),\n",
       " ('T995_8.png', 'EF'),\n",
       " ('T998_3.png', '4'),\n",
       " ('T1009_0.png', 'OB'),\n",
       " ('T1011_12.png', 'n'),\n",
       " ('T1025_12.png', 'MN'),\n",
       " ('T1025_14.png', 'AB'),\n",
       " ('T1030_8.png', 'D'),\n",
       " ('T1045_5.png', '56'),\n",
       " ('T1056_4.png', 'a'),\n",
       " ('T1062_8.png', 'MAN'),\n",
       " ('T1096_5.png', 'PB'),\n",
       " ('T1096_6.png', 'BE'),\n",
       " ('T1096_7.png', 'PA'),\n",
       " ('T1096_9.png', 'CE'),\n",
       " ('T1112_9.png', '1'),\n",
       " ('T1115_5.png', '3'),\n",
       " ('T1116_7.png', 'B'),\n",
       " ('T1129_3.png', '1'),\n",
       " ('T1139_4.png', '5'),\n",
       " ('T1155_3.png', 'a'),\n",
       " ('T1155_4.png', 'b'),\n",
       " ('T1172_5.png', '50'),\n",
       " ('T1172_6.png', '60'),\n",
       " ('T1172_7.png', '70'),\n",
       " ('T1172_8.png', '80'),\n",
       " ('T1175_13.png', 'A'),\n",
       " ('T1175_14.png', 'B')]"
      ]
     },
     "execution_count": 135,
     "metadata": {},
     "output_type": "execute_result"
    }
   ],
   "source": [
    "import re\n",
    "pattern = re.compile(r'^[a-zA-Z0-9]+$')\n",
    "pattern2 = re.compile(r'[0-9]*\\.?[0-9]+$')\n",
    "num_list = [(name,content) for name,content in dict_file if re.match(pattern2,content)]\n",
    "char_list = [(name,content) for name,content in dict_file if re.match(pattern,content)]\n",
    "num_list+char_list"
   ]
  },
  {
   "cell_type": "code",
   "execution_count": 136,
   "metadata": {},
   "outputs": [],
   "source": [
    "dst = '../data/pytorch_densenet/competiton_final/train_f/'\n",
    "save_dir = '../data/train_num_no_char_v2/'\n",
    "def gen_image(item):\n",
    "    name,content = item\n",
    "    img_PIL = Image.open(dst+name)\n",
    "    with open(save_dir+content.replace('/','&&') +'.txt', \"w\", encoding='utf-8') as f:\n",
    "        f.write(content)\n",
    "    img_PIL.save(save_dir+content.replace('/','&&') + '.png') \n",
    "#     print(content)\n",
    "    return img_PIL"
   ]
  },
  {
   "cell_type": "code",
   "execution_count": 137,
   "metadata": {},
   "outputs": [
    {
     "data": {
      "text/plain": [
       "('T886_14.png', '300')"
      ]
     },
     "execution_count": 137,
     "metadata": {},
     "output_type": "execute_result"
    },
    {
     "data": {
      "image/png": "[encoded data removed]",
      "text/plain": [
       "<Figure size 432x288 with 1 Axes>"
      ]
     },
     "metadata": {},
     "output_type": "display_data"
    }
   ],
   "source": [
    "import random\n",
    "item = random.choice(num_list+char_list)\n",
    "result = gen_image(item)\n",
    "plt.imshow(result)\n",
    "item"
   ]
  },
  {
   "cell_type": "code",
   "execution_count": 138,
   "metadata": {},
   "outputs": [],
   "source": [
    "for item in num_list+char_list:\n",
    "    result = gen_image(item)"
   ]
  },
  {
   "cell_type": "code",
   "execution_count": null,
   "metadata": {},
   "outputs": [],
   "source": [
    "content = [i for i in df_train.content if type(i) is str]"
   ]
  },
  {
   "cell_type": "code",
   "execution_count": null,
   "metadata": {},
   "outputs": [],
   "source": [
    "len(dict_file)"
   ]
  },
  {
   "cell_type": "code",
   "execution_count": null,
   "metadata": {},
   "outputs": [],
   "source": [
    "len_list = [len(i) for _,i in dict_file if len(i) > 25]"
   ]
  },
  {
   "cell_type": "code",
   "execution_count": null,
   "metadata": {},
   "outputs": [],
   "source": [
    "len(len_list) / len(dict_file)"
   ]
  },
  {
   "cell_type": "code",
   "execution_count": null,
   "metadata": {},
   "outputs": [],
   "source": []
  }
 ],
 "metadata": {
  "kernelspec": {
   "display_name": "Python 3",
   "language": "python",
   "name": "python3"
  },
  "language_info": {
   "codemirror_mode": {
    "name": "ipython",
    "version": 3
   },
   "file_extension": ".py",
   "mimetype": "text/x-python",
   "name": "python",
   "nbconvert_exporter": "python",
   "pygments_lexer": "ipython3",
   "version": "3.5.2"
  }
 },
 "nbformat": 4,
 "nbformat_minor": 2
}
