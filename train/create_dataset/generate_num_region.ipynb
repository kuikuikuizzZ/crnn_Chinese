{
 "cells": [
  {
   "cell_type": "code",
   "execution_count": 101,
   "metadata": {},
   "outputs": [],
   "source": [
    "import cv2\n",
    "import random\n",
    "import glob\n",
    "import numpy as np\n",
    "import matplotlib.pyplot as plt\n",
    "import random\n",
    "import time \n",
    "import numpy as np\n",
    "import skimage\n",
    "\n",
    "from PIL import Image,ImageDraw,ImageFont,ImageEnhance,ImageFilter\n",
    "%matplotlib inline\n",
    "\n",
    "origin_images = glob.glob('./blank_region/*.jpg')\n",
    "font = ImageFont.truetype('./font/Songti.ttc',20,index=6)\n",
    "# font = ['./font/华文细黑.ttf','./font/Songti.ttc','./font/STHeitiLight.ttc']\n",
    "save_dir = '../data/train_num_no_char_v2/'\n",
    "font_dir = ['./font/STHeitiLight.ttc','./font/Songti.ttc','./font/Hiragino Sans GB.ttc']\n"
   ]
  },
  {
   "cell_type": "code",
   "execution_count": 70,
   "metadata": {},
   "outputs": [],
   "source": [
    "font_dir = ['./font/Songti.ttc','./font/华文细黑.ttf']\n",
    "# font_dir = ['./font/华文细黑.ttf']\n",
    "\n",
    "def SaltAndPepper(src,percetage):  \n",
    "    SP_NoiseImg=src \n",
    "    SP_NoiseNum=int(percetage*src.shape[0]*src.shape[1]) \n",
    "    for i in range(SP_NoiseNum): \n",
    "        randX=np.random.randint(0,src.shape[0]-1) \n",
    "        randY=np.random.randint(0,src.shape[1]-1) \n",
    "        if np.random.randint(0,1)==0: \n",
    "            SP_NoiseImg[randX,randY]=0 \n",
    "        else: \n",
    "            SP_NoiseImg[randX,randY]=255 \n",
    "    return SP_NoiseImg\n",
    "\n",
    "def image_enhance(img):\n",
    "    \n",
    "    flag1 = random.random()\n",
    "    if flag1 > 0.3:\n",
    "        img = ImageEnhance.Contrast(img).enhance(random.random()/2+0.8)\n",
    "        img = ImageEnhance.Brightness(img).enhance(random.random()/1.5+0.75)\n",
    "        flag2 = random.random()\n",
    "        if flag2 > 0.5:\n",
    "            for _ in range(random.randint(0,4)):\n",
    "                img = ImageEnhance.Sharpness(img).enhance(0.01)\n",
    "#                 print('sharp one')\n",
    "        elif flag2 > 0.3:\n",
    "            for _ in range(random.randint(0,3)):\n",
    "                img = img.filter(ImageFilter.SMOOTH_MORE)\n",
    "#                 print('smooth one')\n",
    "    return img\n",
    "\n",
    "\n",
    "\n",
    "def gen_text_randomSize(item):\n",
    "    fontName= random.choice(font_dir)\n",
    "    fontSize= random.randint(18,21)\n",
    "    len_item = len(item.strip())\n",
    "    origin_images = glob.glob('./blank_region/*.jpg')\n",
    "    if fontName == './font/Songti.ttc':\n",
    "        index = 6\n",
    "    else:\n",
    "        index = 0\n",
    "#     print(fontName,fontSize)\n",
    "    font = ImageFont.truetype(font=fontName,size=fontSize,index=index)\n",
    "    img = cv2.imread(random.choice(origin_images))\n",
    "    image = img.copy()\n",
    "    h,w = img.shape[:2]\n",
    "    blank = random.choice([2,2,2,2,2,25,50])\n",
    "    text_h,text_w = random.randint(fontSize,fontSize+7),(fontSize-5)*len_item+1+blank\n",
    "    if random.random() > 0.7:\n",
    "        text_h,text_w = random.randint(fontSize+3,fontSize+7),(fontSize-5)*len_item+1+blank\n",
    "    h_chop = h-text_h\n",
    "    w_chop = w-text_w\n",
    "#     print(h,w,text_h,text_w,blank)\n",
    "    x = np.random.randint(w_chop)\n",
    "    y = np.random.randint(h_chop)\n",
    "    image = image[y:y+text_h,x:x+text_w]\n",
    "\n",
    "    flag = random.random()\n",
    "    if flag >0.7:\n",
    "        image = skimage.util.random_noise(image,mode='gaussian',var=0.002)\n",
    "        image = np.uint8(image*255)\n",
    "    \n",
    "\n",
    "#     print(image.shape)\n",
    "    img_PIL = Image.fromarray(image[:,:,::-1])\n",
    "    draw = ImageDraw.Draw(img_PIL)\n",
    "    draw.text((blank,-0.5),item,font=font,fill=(0,0,0))\n",
    "    \n",
    "    img_PIL = image_enhance(img_PIL)\n",
    "    \n",
    "    with open(save_dir+item.replace('/','&&')+ \"-\" + str(fontSize) +'.txt', \"w\", encoding='utf-8') as f:\n",
    "        f.write(item)\n",
    "    img_PIL.save(save_dir+item.replace('/','&&')+ \"-\" + str(fontSize) +'.png') \n",
    "    return img_PIL"
   ]
  },
  {
   "cell_type": "code",
   "execution_count": 16,
   "metadata": {},
   "outputs": [],
   "source": [
    "num_dict = ' 0123456789,./%-￥'\n",
    "\n",
    "def gen_number_with_dot():\n",
    "    serial_len = random.randint(0,5)\n",
    "    num = random.random() * 10**serial_len if random.random() > 0.5 else random.randint(1,10**serial_len)\n",
    "    num =  num if random.random() > 0.5 else round(random.random(),random.randint(1,2)) \n",
    "    reserve_list = [ '{:,.1f}', '{:,.2f}', '{:,.3f}']\n",
    "    serial = random.choice(reserve_list).format(num)\n",
    "    return serial\n",
    "\n",
    "def gen_number_only():\n",
    "    serial_len = random.randint(0,5)\n",
    "    num = random.randint(1,10**serial_len)\n",
    "    return '{:,}'.format(num)\n",
    "\n",
    "def gen_serial_num():\n",
    "    serial_len = random.randint(5,10)\n",
    "    serial_begin = random.sample(num_dict[:61],1)\n",
    "    serial = random.sample(num_dict[1:62],serial_len-1)\n",
    "    return ''.join(serial_begin+serial)\n",
    "\n",
    "def gen_money_with_dollar_sign():\n",
    "    serial = gen_number_with_dot()\n",
    "    serial_begin = num_dict[16]+' '\n",
    "    return serial_begin+serial \n",
    "\n",
    "def gen_number_with_percent_sign():\n",
    "    num = random.random() if random.random() > 0.5 else round(random.random(),2)\n",
    "    reserve_list = ['{:.1%}','{:.2%}','{:.3%}']\n",
    "    serial = random.choice(reserve_list).format(num)\n",
    "    return serial\n",
    "\n",
    "\n",
    "def gen_money_with_Chinese():\n",
    "    serial = gen_number_with_dot()\n",
    "    Chinese_list = [\"合 计 \" + serial, serial+\" 元\",'总 额 '+serial, '单 价 '+serial]\n",
    "    return random.choice(Chinese_list)"
   ]
  },
  {
   "cell_type": "code",
   "execution_count": 102,
   "metadata": {},
   "outputs": [
    {
     "data": {
      "text/plain": [
       "10000"
      ]
     },
     "execution_count": 102,
     "metadata": {},
     "output_type": "execute_result"
    }
   ],
   "source": [
    "list_len = 2000\n",
    "# serial_num = [gen_serial_num() for _ in range(list_len)]\n",
    "number_only = [gen_number_only() for _ in range(list_len)]\n",
    "number_with_dot = [gen_number_with_dot() for _ in range(list_len)]\n",
    "money_with_dollar_sign = [gen_money_with_dollar_sign()  for _ in range(list_len)]\n",
    "money_with_percent_sign = [gen_number_with_percent_sign()  for _ in range(list_len)]\n",
    "random_char = [''.join(random.sample(num_dict,10)) for _ in range(list_len)]\n",
    "\n",
    "total_num = number_with_dot + number_only + random_char + \\\n",
    "            money_with_dollar_sign+money_with_percent_sign\n",
    "random.shuffle(total_num)\n",
    "len(total_num)"
   ]
  },
  {
   "cell_type": "code",
   "execution_count": 14,
   "metadata": {},
   "outputs": [
    {
     "name": "stdout",
     "output_type": "stream",
     "text": [
      "['0.6', '914.0', '0.4', '0.49', '0.1', '0.10', '0.3', '0.8', '78,395.0', '7.496']\n",
      "[',￥715/- .2', '15/63.7￥, ', '.1 -7%4,9/', '29.￥/5%167', '4620, 5%/8', '.,45-92 /6', '-41,0785%.', '9-7015/%8￥', '08 19/,-4￥', '61-%,.5927']\n",
      "['50', '97,382', '1', '1', '42,183', '44,689', '1', '1', '2,544', '22,442']\n",
      "['0.6', '914.0', '0.4', '0.49', '0.1', '0.10', '0.3', '0.8', '78,395.0', '7.496']\n",
      "['￥ 5.090', '￥ 0.30', '￥ 0.9', '￥ 0.970', '￥ 709.00', '￥ 51,935.8', '￥ 0.860', '￥ 9,867.4', '￥ 1.00', '￥ 0.920']\n",
      "['25.2%', '94.822%', '43.8%', '27.00%', '82.0%', '53.0%', '64.162%', '94.000%', '97.00%', '78.00%']\n"
     ]
    }
   ],
   "source": [
    "print(number_with_dot[:10])\n",
    "print(random_char[:10])\n",
    "print(number_only[:10])\n",
    "print(number_with_dot[:10])\n",
    "print(money_with_dollar_sign[:10])\n",
    "print(money_with_percent_sign[:10])\n",
    "\n"
   ]
  },
  {
   "cell_type": "code",
   "execution_count": 99,
   "metadata": {},
   "outputs": [
    {
     "data": {
      "text/plain": [
       "'9,495'"
      ]
     },
     "execution_count": 99,
     "metadata": {},
     "output_type": "execute_result"
    },
    {
     "data": {
      "image/png": "[encoded data removed]",
      "text/plain": [
       "<Figure size 432x288 with 1 Axes>"
      ]
     },
     "metadata": {},
     "output_type": "display_data"
    }
   ],
   "source": [
    "\n",
    "# random_char = [''.join(random.sample(num_dict,10)) for _ in range(list_len)]\n",
    "item = random.choice(total_num)\n",
    "result = gen_text_randomSize(item)\n",
    "plt.imshow(result)\n",
    "item"
   ]
  },
  {
   "cell_type": "code",
   "execution_count": 103,
   "metadata": {},
   "outputs": [
    {
     "name": "stdout",
     "output_type": "stream",
     "text": [
      "CPU times: user 1.17 s, sys: 786 ms, total: 1.96 s\n",
      "Wall time: 4min 38s\n",
      "278.5549600124359 8\n"
     ]
    }
   ],
   "source": [
    "from multiprocessing import Pool,cpu_count\n",
    "pool = Pool(cpu_count()//4)\n",
    "start = time.time()\n",
    "%time result = pool.map(gen_text_randomSize,total_num)\n",
    "end = time.time()\n",
    "print(end-start,cpu_count()//4)\n",
    "\n"
   ]
  },
  {
   "cell_type": "code",
   "execution_count": null,
   "metadata": {},
   "outputs": [],
   "source": [
    "money_with_dot + serial_num + serial_num+number_with_dot+ \\\n",
    "            money_with_dollar_sign+money_with_percent_sign\n",
    "len(set(money_with_percent_sign))\n"
   ]
  },
  {
   "cell_type": "code",
   "execution_count": null,
   "metadata": {},
   "outputs": [],
   "source": [
    "number_with_dot = [gen_number_with_dot() for _ in range(30000)]\n",
    "len(set(number_with_dot))"
   ]
  },
  {
   "cell_type": "code",
   "execution_count": null,
   "metadata": {},
   "outputs": [],
   "source": [
    "number_with_dot"
   ]
  },
  {
   "cell_type": "code",
   "execution_count": null,
   "metadata": {},
   "outputs": [],
   "source": []
  }
 ],
 "metadata": {
  "kernelspec": {
   "display_name": "Python 3",
   "language": "python",
   "name": "python3"
  },
  "language_info": {
   "codemirror_mode": {
    "name": "ipython",
    "version": 3
   },
   "file_extension": ".py",
   "mimetype": "text/x-python",
   "name": "python",
   "nbconvert_exporter": "python",
   "pygments_lexer": "ipython3",
   "version": "3.5.2"
  }
 },
 "nbformat": 4,
 "nbformat_minor": 2
}
