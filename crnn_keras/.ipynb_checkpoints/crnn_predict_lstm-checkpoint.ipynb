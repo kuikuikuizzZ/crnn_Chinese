{
 "cells": [
  {
   "cell_type": "code",
   "execution_count": 1,
   "metadata": {},
   "outputs": [
    {
     "name": "stdout",
     "output_type": "stream",
     "text": [
      "env: CUDA_VISIBLE_DEVICES=0\n"
     ]
    }
   ],
   "source": [
    "%env CUDA_VISIBLE_DEVICES=0"
   ]
  },
  {
   "cell_type": "code",
   "execution_count": 2,
   "metadata": {},
   "outputs": [
    {
     "name": "stderr",
     "output_type": "stream",
     "text": [
      "Using TensorFlow backend.\n"
     ]
    }
   ],
   "source": [
    "# -*- coding: utf-8 -*-\n",
    "import os \n",
    "import sys\n",
    "sys.path.insert(0, os.getcwd())\n",
    "\n",
    "from model import predict,get_model_lstm\n",
    "import keys_union\n",
    "from glob import glob\n",
    "from PIL import Image\n",
    "import time\n",
    "import matplotlib.pyplot as plt\n",
    "import difflib\n",
    "import re\n",
    "%matplotlib inline\n",
    "paths = glob('./test/*.*')\n"
   ]
  },
  {
   "cell_type": "code",
   "execution_count": 3,
   "metadata": {},
   "outputs": [],
   "source": [
    "sys.path.insert(1, '/mnt/wuwenhui/git_ocr_project/keras_crnn/train/keras-train/')\n",
    "import keys_keras\n",
    "with open('../train/create_dataset/medicine_v2.txt') as f:\n",
    "    medicine = f.readlines()\n",
    "medicine = [name.split('\\n')[0] for name in medicine]\n",
    "medicine = list(set(medicine))\n"
   ]
  },
  {
   "cell_type": "code",
   "execution_count": 4,
   "metadata": {},
   "outputs": [
    {
     "name": "stdout",
     "output_type": "stream",
     "text": [
      "__________________________________________________________________________________________________\n",
      "Layer (type)                    Output Shape         Param #     Connected to                     \n",
      "==================================================================================================\n",
      "the_input (InputLayer)          (None, 32, None, 1)  0                                            \n",
      "__________________________________________________________________________________________________\n",
      "conv1 (Conv2D)                  (None, 32, None, 64) 640         the_input[0][0]                  \n",
      "__________________________________________________________________________________________________\n",
      "pool1 (MaxPooling2D)            (None, 16, None, 64) 0           conv1[0][0]                      \n",
      "__________________________________________________________________________________________________\n",
      "conv2 (Conv2D)                  (None, 16, None, 128 73856       pool1[0][0]                      \n",
      "__________________________________________________________________________________________________\n",
      "pool2 (MaxPooling2D)            (None, 8, None, 128) 0           conv2[0][0]                      \n",
      "__________________________________________________________________________________________________\n",
      "conv3 (Conv2D)                  (None, 8, None, 256) 295168      pool2[0][0]                      \n",
      "__________________________________________________________________________________________________\n",
      "conv4 (Conv2D)                  (None, 8, None, 256) 590080      conv3[0][0]                      \n",
      "__________________________________________________________________________________________________\n",
      "zero_padding2d_1 (ZeroPadding2D (None, 8, None, 256) 0           conv4[0][0]                      \n",
      "__________________________________________________________________________________________________\n",
      "pool3 (MaxPooling2D)            (None, 4, None, 256) 0           zero_padding2d_1[0][0]           \n",
      "__________________________________________________________________________________________________\n",
      "conv5 (Conv2D)                  (None, 4, None, 512) 1180160     pool3[0][0]                      \n",
      "__________________________________________________________________________________________________\n",
      "batch_normalization_1 (BatchNor (None, 4, None, 512) 16          conv5[0][0]                      \n",
      "__________________________________________________________________________________________________\n",
      "conv6 (Conv2D)                  (None, 4, None, 512) 2359808     batch_normalization_1[0][0]      \n",
      "__________________________________________________________________________________________________\n",
      "batch_normalization_2 (BatchNor (None, 4, None, 512) 16          conv6[0][0]                      \n",
      "__________________________________________________________________________________________________\n",
      "zero_padding2d_2 (ZeroPadding2D (None, 4, None, 512) 0           batch_normalization_2[0][0]      \n",
      "__________________________________________________________________________________________________\n",
      "pool4 (MaxPooling2D)            (None, 2, None, 512) 0           zero_padding2d_2[0][0]           \n",
      "__________________________________________________________________________________________________\n",
      "conv7 (Conv2D)                  (None, 1, None, 512) 1049088     pool4[0][0]                      \n",
      "__________________________________________________________________________________________________\n",
      "permute (Permute)               (None, None, 1, 512) 0           conv7[0][0]                      \n",
      "__________________________________________________________________________________________________\n",
      "timedistrib (TimeDistributed)   (None, None, 512)    0           permute[0][0]                    \n",
      "__________________________________________________________________________________________________\n",
      "blstm_1 (Bidirectional)         (None, None, 512)    1574912     timedistrib[0][0]                \n",
      "__________________________________________________________________________________________________\n",
      "blstm1_dense_1 (Dense)          (None, None, 256)    131328      blstm_1[0][0]                    \n",
      "__________________________________________________________________________________________________\n",
      "blstm_2 (Bidirectional)         (None, None, 512)    1050624     blstm1_dense_1[0][0]             \n",
      "__________________________________________________________________________________________________\n",
      "blstm2_dense_2 (Dense)          (None, None, 6044)   3100572     blstm_2[0][0]                    \n",
      "__________________________________________________________________________________________________\n",
      "the_labels (InputLayer)         (None, None)         0                                            \n",
      "__________________________________________________________________________________________________\n",
      "input_length (InputLayer)       (None, 1)            0                                            \n",
      "__________________________________________________________________________________________________\n",
      "label_length (InputLayer)       (None, 1)            0                                            \n",
      "__________________________________________________________________________________________________\n",
      "ctc (Lambda)                    (None, 1)            0           blstm2_dense_2[0][0]             \n",
      "                                                                 the_labels[0][0]                 \n",
      "                                                                 input_length[0][0]               \n",
      "                                                                 label_length[0][0]               \n",
      "==================================================================================================\n",
      "Total params: 11,406,268\n",
      "Trainable params: 11,406,252\n",
      "Non-trainable params: 16\n",
      "__________________________________________________________________________________________________\n",
      "CPU times: user 16.6 s, sys: 36.6 s, total: 53.3 s\n",
      "Wall time: 3.26 s\n"
     ]
    }
   ],
   "source": [
    "from model import predict,get_model\n",
    "characters = keys_union.alphabet[:]\n",
    "# characters = keys_keras.alphabet_union[:]\n",
    "# print(characters[1230:1240])\n",
    "height = 32\n",
    "nclass=len(characters)+1\n",
    "% time model,baseModel = get_model_lstm(height,nclass)"
   ]
  },
  {
   "cell_type": "code",
   "execution_count": 576,
   "metadata": {},
   "outputs": [
    {
     "name": "stdout",
     "output_type": "stream",
     "text": [
      "(368, 23)\n",
      "CPU times: user 48 ms, sys: 29.5 ms, total: 77.6 ms\n",
      "Wall time: 62 ms\n",
      "CPU times: user 167 ms, sys: 0 ns, total: 167 ms\n",
      "Wall time: 147 ms\n"
     ]
    }
   ],
   "source": [
    "# from model import predict \n",
    "import time\n",
    "# img_path = '../train/data/generate_medicine_images/\"氨甲苯酸氯化钠-20.png'\n",
    "img_path = '/mnt/wuwenhui/git_ocr_project/keras_crnn/train/data/manual_crop/zh/3100001000007_0163_|林华正压无针连接式留置针18-26G-※支.png'\n",
    "img = Image.open(img_path)\n",
    "print(img.size)\n",
    "%time baseModel.load_weights('../save_model/competion_with_gen_lstm_019815_10.h5')\n",
    "%time text0 = predict(img,baseModel)\n",
    "# text0 = difflib.get_close_matches(text0,possibilities=medicine,n=3)\n",
    "# %time baseModel.load_weights('../model/my_model_keras.h5')\n",
    "# %time text = predict(img,baseModel)\n",
    "# text = difflib.get_close_matches(text,possibilities=medicine,n=1)\n"
   ]
  },
  {
   "cell_type": "code",
   "execution_count": 577,
   "metadata": {},
   "outputs": [
    {
     "data": {
      "text/plain": [
       "\"林华正压天针连置'''''''''''1'''''''''''''''''''''''''''''''''\""
      ]
     },
     "execution_count": 577,
     "metadata": {},
     "output_type": "execute_result"
    },
    {
     "data": {
      "image/png": "[encoded data removed]",
      "text/plain": [
       "<Figure size 1440x1440 with 1 Axes>"
      ]
     },
     "metadata": {},
     "output_type": "display_data"
    }
   ],
   "source": [
    "plt.figure(figsize=(20,20))\n",
    "plt.imshow(img)\n",
    "text0"
   ]
  },
  {
   "cell_type": "code",
   "execution_count": 7,
   "metadata": {},
   "outputs": [
    {
     "data": {
      "text/plain": [
       "<matplotlib.image.AxesImage at 0x7f27941c0160>"
      ]
     },
     "execution_count": 7,
     "metadata": {},
     "output_type": "execute_result"
    },
    {
     "data": {
      "image/png": "[encoded data removed]",
      "text/plain": [
       "<Figure size 432x288 with 1 Axes>"
      ]
     },
     "metadata": {},
     "output_type": "display_data"
    }
   ],
   "source": [
    "valid_data = glob('../train/data/generate_medicine/*.png')[:1000]\n",
    "img = Image.open(valid_data[0])\n",
    "plt.imshow(img)"
   ]
  },
  {
   "cell_type": "code",
   "execution_count": null,
   "metadata": {},
   "outputs": [],
   "source": [
    "import re\n",
    "sum_origin = 0 \n",
    "text_list = []\n",
    "valid_data = glob('../train/data/valid_v3_replace/*.png')[5000:6000]\n",
    "baseModel.load_weights('../model/transfer_lstm_model.h5')\n",
    "for item in valid_data:\n",
    "    img = Image.open(item)\n",
    "    text0 = predict(img,baseModel)\n",
    "    text_list.append(text0)\n",
    "# print(sum_origin/len(valid_data))"
   ]
  },
  {
   "cell_type": "code",
   "execution_count": null,
   "metadata": {},
   "outputs": [],
   "source": [
    "error_list_origin = []\n",
    "pattern = re.compile(r'(^\\'*)|(\\'*$)')\n",
    "sum_origin = 0\n",
    "for item,text0 in zip(valid_data,text_list): \n",
    "    text0 = re.sub(pattern ,'',text0)\n",
    "#     print(text0)\n",
    "    result = difflib.get_close_matches(text0,possibilities=medicine,n=3)\n",
    "    if not result and text0 :\n",
    "        result = text0\n",
    "    elif not result and not text0:\n",
    "        continue\n",
    "    ground_true = '-'.join(os.path.split(item)[-1].split('-')[:-1]).replace('&&','/')\n",
    "    print(ground_true,text0,result)\n",
    "    if result[0] == ground_true:\n",
    "        sum_origin+=1\n",
    "    else: \n",
    "        error_list_origin.append((ground_true,text0,result[0]))\n",
    "        \n",
    "    "
   ]
  },
  {
   "cell_type": "code",
   "execution_count": null,
   "metadata": {},
   "outputs": [],
   "source": [
    "sum_origin/len(text_list)"
   ]
  },
  {
   "cell_type": "code",
   "execution_count": null,
   "metadata": {},
   "outputs": [],
   "source": [
    "pattern = re.compile(r'(^\\'*)|(\\'*$)')\n",
    "data = zip(valid_data,text_list)\n",
    "def predict_text(data,pattern=pattern):\n",
    "    text = re.sub(pattern ,'',data[1])\n",
    "    result = difflib.get_close_matches(text,possibilities=medicine,n=3)\n",
    "    if not result and text :\n",
    "        result = text\n",
    "    elif not result and not text:\n",
    "        return 0\n",
    "    ground_true = '-'.join(os.path.split(data[0])[-1].split('-')[:-1]).replace('&&','/')\n",
    "#     print(ground_true,text,result)\n",
    "    if result[0] == ground_true:\n",
    "#         sum_origin+=1\n",
    "        return 1\n",
    "    else:\n",
    "        return 0\n",
    "#     else: \n",
    "#         error_list_origin.append((ground_true,text,result[0]))\n",
    "        \n"
   ]
  },
  {
   "cell_type": "code",
   "execution_count": null,
   "metadata": {},
   "outputs": [],
   "source": [
    "from multiprocessing import Pool,cpu_count\n",
    "error_list_origin = []\n",
    "pattern = re.compile(r'(^\\'*)|(\\'*$)')\n",
    "sum_origin = 0\n",
    "pool = Pool(cpu_count()//4)\n",
    "start = time.time()\n",
    "\n",
    "%time result = pool.map(predict_text,data)\n",
    "end = time.time()"
   ]
  },
  {
   "cell_type": "code",
   "execution_count": null,
   "metadata": {},
   "outputs": [],
   "source": [
    "sum(result)/len(text_list)"
   ]
  },
  {
   "cell_type": "code",
   "execution_count": 91,
   "metadata": {},
   "outputs": [
    {
     "data": {
      "text/plain": [
       "<matplotlib.image.AxesImage at 0x7f01185b3128>"
      ]
     },
     "execution_count": 91,
     "metadata": {},
     "output_type": "execute_result"
    },
    {
     "data": {
      "image/png": "[encoded data removed]",
      "text/plain": [
       "<Figure size 432x288 with 1 Axes>"
      ]
     },
     "metadata": {},
     "output_type": "display_data"
    }
   ],
   "source": [
    "import numpy as np\n",
    "img = Image.open('/mnt/wuwenhui/git_ocr_project/keras_crnn/train/data/generate_medicine/\"亚叶酸钙.png')\n",
    "img_np = np.array(img)\n",
    "\n",
    "import torch\n",
    "import torchvision.transforms as transforms\n",
    "\n",
    "toTensor = transforms.ToTensor()\n",
    "tensor = toTensor(img)\n",
    "tensor_np = tensor.numpy()\n",
    "plt.imshow(img_np)"
   ]
  },
  {
   "cell_type": "code",
   "execution_count": 58,
   "metadata": {},
   "outputs": [
    {
     "name": "stdout",
     "output_type": "stream",
     "text": [
      "(32, 250, 3) (3, 32, 250)\n"
     ]
    }
   ],
   "source": [
    "print(img_np.shape,tensor_np.shape)"
   ]
  },
  {
   "cell_type": "code",
   "execution_count": 96,
   "metadata": {},
   "outputs": [],
   "source": [
    "true_array = (img_np[:,:,::-1] == np.transpose(tensor_np,(1,2,0))*255)"
   ]
  },
  {
   "cell_type": "code",
   "execution_count": 97,
   "metadata": {},
   "outputs": [
    {
     "data": {
      "text/plain": [
       "False"
      ]
     },
     "execution_count": 97,
     "metadata": {},
     "output_type": "execute_result"
    }
   ],
   "source": [
    "np.all(true_array)"
   ]
  },
  {
   "cell_type": "code",
   "execution_count": null,
   "metadata": {},
   "outputs": [],
   "source": []
  }
 ],
 "metadata": {
  "kernelspec": {
   "display_name": "Python 3",
   "language": "python",
   "name": "python3"
  },
  "language_info": {
   "codemirror_mode": {
    "name": "ipython",
    "version": 3
   },
   "file_extension": ".py",
   "mimetype": "text/x-python",
   "name": "python",
   "nbconvert_exporter": "python",
   "pygments_lexer": "ipython3",
   "version": "3.5.2"
  }
 },
 "nbformat": 4,
 "nbformat_minor": 2
}
