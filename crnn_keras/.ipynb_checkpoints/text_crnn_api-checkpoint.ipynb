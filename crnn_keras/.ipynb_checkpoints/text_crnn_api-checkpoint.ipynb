{
 "cells": [
  {
   "cell_type": "code",
   "execution_count": 1,
   "metadata": {},
   "outputs": [
    {
     "name": "stdout",
     "output_type": "stream",
     "text": [
      "env: CUDA_VISIBLE_DEVICES=0\n"
     ]
    }
   ],
   "source": [
    "%env CUDA_VISIBLE_DEVICES=0"
   ]
  },
  {
   "cell_type": "code",
   "execution_count": 7,
   "metadata": {},
   "outputs": [],
   "source": [
    "# -*- coding: utf-8 -*-\n",
    "import os \n",
    "import sys\n",
    "sys.path.insert(0, os.getcwd())\n",
    "\n",
    "from model import get_model\n",
    "import keys_keras\n",
    "from PIL import Image\n",
    "import cv2\n",
    "import difflib\n",
    "import numpy as np\n",
    "characters = keys_keras.alphabet_union[:]"
   ]
  },
  {
   "cell_type": "code",
   "execution_count": 17,
   "metadata": {},
   "outputs": [],
   "source": [
    "class CRNN_keras(object):\n",
    "    def __init__(self,characters=characters,height=32):\n",
    "        self.height = height\n",
    "        self.nClass = len(characters)+1\n",
    "        self.characters = characters\n",
    "        self.model,self.basemodel = get_model(self.height,self.nClass)\n",
    "        self.basemodel.load_weights('../save_model/gru_competition_004233_*10.h5')\n",
    "        \n",
    "    def predict(self,img):\n",
    "        im = Image.fromarray(img)\n",
    "        im = im.convert('L')\n",
    "        scale = im.size[1] * 1.0 / 32\n",
    "        w = int(im.size[0] / scale)\n",
    "        im = im.resize((w, 32))\n",
    "        img = np.array(im).astype(np.float32) / 255.0\n",
    "        print(img.shape,scale)\n",
    "        X = img.reshape((32, w, 1))\n",
    "        X = np.array([X])\n",
    "        y_pred = self.basemodel.predict(X)\n",
    "        y_pred = y_pred[:, 2:, :]\n",
    "        out = self.decode(y_pred)  ##\n",
    "        \n",
    "        if len(out) > 0:\n",
    "            while out[0] == u'。':\n",
    "                if len(out) > 1:\n",
    "                    out = out[1:]\n",
    "                else:\n",
    "                    break\n",
    "        return out\n",
    "    \n",
    "    def decode(self,pred):\n",
    "        charactersS = self.characters + u' '\n",
    "        t = pred.argmax(axis=2)[0]\n",
    "        length = len(t)\n",
    "        char_list = []\n",
    "        n = self.nClass-1\n",
    "        for i in range(length):\n",
    "            if t[i] != n and (not (i > 0 and t[i - 1] == t[i])):\n",
    "                char_list.append(charactersS[t[i]])\n",
    "        return u''.join(char_list)"
   ]
  },
  {
   "cell_type": "code",
   "execution_count": 18,
   "metadata": {},
   "outputs": [],
   "source": [
    "crnn = CRNN_keras()"
   ]
  },
  {
   "cell_type": "code",
   "execution_count": 19,
   "metadata": {},
   "outputs": [
    {
     "name": "stdout",
     "output_type": "stream",
     "text": [
      "(32, 475) 1.0\n",
      "*人用狂大病疫苗（Vcto细胞、地原肾               \n"
     ]
    }
   ],
   "source": [
    "img_path = '../train/data/generate_medicine/\"人用狂犬病疫苗（Vero细胞、地鼠肾.png'\n",
    "image = cv2.imread(img_path)\n",
    "text = crnn.predict(image)\n",
    "print(text)"
   ]
  },
  {
   "cell_type": "code",
   "execution_count": null,
   "metadata": {},
   "outputs": [],
   "source": []
  },
  {
   "cell_type": "code",
   "execution_count": null,
   "metadata": {},
   "outputs": [],
   "source": [
    "os.path.abspath()"
   ]
  }
 ],
 "metadata": {
  "kernelspec": {
   "display_name": "Python 3",
   "language": "python",
   "name": "python3"
  },
  "language_info": {
   "codemirror_mode": {
    "name": "ipython",
    "version": 3
   },
   "file_extension": ".py",
   "mimetype": "text/x-python",
   "name": "python",
   "nbconvert_exporter": "python",
   "pygments_lexer": "ipython3",
   "version": "3.5.2"
  }
 },
 "nbformat": 4,
 "nbformat_minor": 2
}
