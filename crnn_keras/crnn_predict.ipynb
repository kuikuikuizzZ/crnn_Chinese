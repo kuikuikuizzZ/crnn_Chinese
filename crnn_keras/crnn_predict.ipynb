{
 "cells": [
  {
   "cell_type": "code",
   "execution_count": 1,
   "metadata": {},
   "outputs": [
    {
     "name": "stdout",
     "output_type": "stream",
     "text": [
      "env: CUDA_VISIBLE_DEVICES=1\n"
     ]
    }
   ],
   "source": [
    "%env CUDA_VISIBLE_DEVICES=1"
   ]
  },
  {
   "cell_type": "code",
   "execution_count": 5,
   "metadata": {},
   "outputs": [],
   "source": [
    "# -*- coding: utf-8 -*-\n",
    "import os \n",
    "import sys\n",
    "sys.path.insert(0, os.getcwd())\n",
    "import tensorflow as tf\n",
    "import keras.backend as K\n",
    "\n",
    "from model import predict,get_model\n",
    "# import keys_union\n",
    "from glob import glob\n",
    "from PIL import Image\n",
    "import time\n",
    "import matplotlib.pyplot as plt\n",
    "import difflib\n",
    "import re\n",
    "import random\n",
    "import cv2\n",
    "from crnn_lib import CRNN_keras\n",
    "%matplotlib inline\n",
    "paths = glob('./test/*.*')\n"
   ]
  },
  {
   "cell_type": "code",
   "execution_count": 63,
   "metadata": {},
   "outputs": [],
   "source": [
    "import keys_keras\n",
    "K.clear_session()\n",
    "\n",
    "characters = keys_keras.alphabet_union[:]\n",
    "model_path = '../save_model/gru_competition_004003_*10.h5'\n",
    "crnn = CRNN_keras(model_path=model_path,characters=characters)"
   ]
  },
  {
   "cell_type": "code",
   "execution_count": 66,
   "metadata": {},
   "outputs": [],
   "source": [
    "# sys.path.insert(1, '/mnt/wuwenhui/git_ocr_project/keras_crnn/train/keras-train/')\n",
    "\n",
    "with open('../train/create_dataset/medicine_v2.txt') as f:\n",
    "    medicine = f.readlines()\n",
    "medicine = [name.split('\\n')[0] for name in medicine]\n",
    "medicine = list(set(medicine))\n"
   ]
  },
  {
   "cell_type": "code",
   "execution_count": 85,
   "metadata": {},
   "outputs": [
    {
     "name": "stdout",
     "output_type": "stream",
     "text": [
      "CPU times: user 59.4 ms, sys: 28.7 ms, total: 88.1 ms\n",
      "Wall time: 64.3 ms\n",
      "(32, 172) 0.75\n",
      "CPU times: user 78.7 ms, sys: 23.4 ms, total: 102 ms\n",
      "Wall time: 98.2 ms\n"
     ]
    },
    {
     "data": {
      "text/plain": [
       "'焦山植k1克         '"
      ]
     },
     "execution_count": 85,
     "metadata": {},
     "output_type": "execute_result"
    },
    {
     "data": {
      "image/png": "[encoded data removed]",
      "text/plain": [
       "<Figure size 432x288 with 1 Axes>"
      ]
     },
     "metadata": {},
     "output_type": "display_data"
    }
   ],
   "source": [
    "# from model import predict \n",
    "import time\n",
    "# img_path = '../train/data/generate_medicine_images/\"氨甲苯酸氯化钠-20.png'\n",
    "img_path = glob('/mnt/wuwenhui/git_ocr_project/keras_crnn/train/data/train_competition_gen_20/*png')\n",
    "\n",
    "img = cv2.imread(random.choice(img_path))\n",
    "%time crnn.load_weights('../save_model/gru_competition_004003_*10.h5')\n",
    "%time text0 = crnn.predict(img)\n",
    "# text0 = difflib.get_close_matches(text0,possibilities=medicine,n=3)\n",
    "# %time baseModel.load_weights('../model/my_model_keras.h5')\n",
    "# %time text = predict(img,baseModel)\n",
    "# text = difflib.get_close_matches(text,possibilities=medicine,n=1)\n",
    "plt.imshow(img)\n",
    "text0"
   ]
  },
  {
   "cell_type": "markdown",
   "metadata": {},
   "source": [
    "## 识别数字model \n",
    "如果是使用了上面识别中文的模型，需要手动清除掉"
   ]
  },
  {
   "cell_type": "code",
   "execution_count": 86,
   "metadata": {},
   "outputs": [],
   "source": [
    "K.clear_session()\n",
    "characters = ' 0123456789ABCDEFGHIJKLMNPQRSTUVWXYZabcdefghijklmnpqrstuvwxyz-,./%￥|'\n",
    "model_path = '../save_model/num_char_10.h5'\n",
    "crnn = CRNN_keras(model_path=model_path,characters=characters)"
   ]
  },
  {
   "cell_type": "code",
   "execution_count": 142,
   "metadata": {},
   "outputs": [
    {
     "name": "stdout",
     "output_type": "stream",
     "text": [
      "CPU times: user 197 ms, sys: 53.8 ms, total: 251 ms\n",
      "Wall time: 232 ms\n",
      "(32, 134) 0.75\n",
      "CPU times: user 49.8 ms, sys: 0 ns, total: 49.8 ms\n",
      "Wall time: 46.2 ms\n"
     ]
    },
    {
     "data": {
      "text/plain": [
       "'15 '"
      ]
     },
     "execution_count": 142,
     "metadata": {},
     "output_type": "execute_result"
    },
    {
     "data": {
      "image/png": "[encoded data removed]",
      "text/plain": [
       "<Figure size 432x288 with 1 Axes>"
      ]
     },
     "metadata": {},
     "output_type": "display_data"
    }
   ],
   "source": [
    "# from model import predict \n",
    "import time\n",
    "# img_path = '../train/data/generate_medicine_images/\"氨甲苯酸氯化钠-20.png'\n",
    "img_path = glob('/mnt/wuwenhui/git_ocr_project/keras_crnn/train/data/manual_crop/digit/*png')\n",
    "\n",
    "img = cv2.imread(random.choice(img_path))\n",
    "%time crnn.load_weights('../save_model/num_char_000077_10.h5')\n",
    "%time text0 = crnn.predict(img)\n",
    "# text0 = difflib.get_close_matches(text0,possibilities=medicine,n=3)\n",
    "# %time baseModel.load_weights('../model/my_model_keras.h5')\n",
    "# %time text = predict(img,baseModel)\n",
    "# text = difflib.get_close_matches(text,possibilities=medicine,n=1)\n",
    "plt.imshow(img)\n",
    "text0"
   ]
  },
  {
   "cell_type": "markdown",
   "metadata": {},
   "source": [
    "## 多图片测试准确率"
   ]
  },
  {
   "cell_type": "code",
   "execution_count": null,
   "metadata": {},
   "outputs": [],
   "source": [
    "import keys_keras\n",
    "characters = keys_keras.alphabet[:]\n",
    "sum_000045 = 0 \n",
    "error_list_000045 = []\n",
    "height = 32\n",
    "nclass=len(characters)+1\n",
    "% time model,baseModel = get_model(height,nclass)\n",
    "baseModel.load_weights('../save_model/model_v3_small.h5')\n",
    "for item in valid_data:\n",
    "    img = Image.open(item)\n",
    "#     print(img.size)\n",
    "    text0 = predict(img,baseModel)\n",
    "#     result = difflib.get_close_matches(text0,possibilities=medicine,n=3)\n",
    "#     if not result and text0 :\n",
    "#         result = text0\n",
    "#     elif not result and not text0:\n",
    "#         continue\n",
    "    ground_true = item.split('/')[-1].split('.')[0]\n",
    "    print(ground_true,text0)\n",
    "#     result = result[0]\n",
    "    if text0 == ground_true:\n",
    "        sum_000045+=1\n",
    "#     else: \n",
    "#         error_list_000045.append((ground_true,text0,result[0]))\n",
    "        "
   ]
  },
  {
   "cell_type": "code",
   "execution_count": null,
   "metadata": {},
   "outputs": [],
   "source": [
    "sum_000045/len(valid_data)\n"
   ]
  },
  {
   "cell_type": "code",
   "execution_count": null,
   "metadata": {},
   "outputs": [],
   "source": [
    "sum_origin = 0 \n",
    "error_list_origin = []\n",
    "baseModel.load_weights('../model/my_model_keras.h5')\n",
    "for item in valid_data:\n",
    "    img = Image.open(item)\n",
    "    text0 = predict(img,baseModel)\n",
    "    result = difflib.get_close_matches(text0,possibilities=medicine,n=3)\n",
    "    if not result and text0 :\n",
    "        result = text0\n",
    "    elif not result and not text0:\n",
    "        continue\n",
    "    ground_true = item.split('/')[-1].split('.')[0]\n",
    "#     print(ground_true,text0)\n",
    "    if result[0] == ground_true:\n",
    "        sum_origin+=1\n",
    "    else: \n",
    "        error_list_origin.append((ground_true,text0,result[0]))\n",
    "print(sum_origin/len(valid_data))"
   ]
  },
  {
   "cell_type": "code",
   "execution_count": null,
   "metadata": {
    "scrolled": false
   },
   "outputs": [],
   "source": [
    "import cv2\n",
    "import sys\n",
    "import os\n",
    "sys.path.append('/mnt/wuwenhui/git_ocr_project/keras_crnn/pytorch_crnn/')\n",
    "from crnn_lib import CRNNLib\n",
    "\n",
    "image_path = '/mnt/wuwenhui/git_ocr_project/keras_crnn/train/data/generate_medicine/Kell血型抗原鉴定.png'\n",
    "recognizer = CRNNLib()\n",
    "\n",
    "sum_origin = 0 \n",
    "error_list_origin = []\n",
    "\n",
    "for item in valid_data:\n",
    "    image = cv2.imread(item)\n",
    "    text0 = recognizer.recognize(image)\n",
    "    result = difflib.get_close_matches(text0,possibilities=medicine,n=3)\n",
    "    if not result and text0 :\n",
    "        result = text0\n",
    "    elif not result and not text0:\n",
    "        continue\n",
    "#     ground_true = item.split('/')[-1].split('.')[0]\n",
    "    ground_true = '-'.join(os.path.split(item)[-1].split('-')[:-1]).replace('&&','/')\n",
    "    print(ground_true,text0,result)\n",
    "    if text0 == ground_true:\n",
    "        sum_origin+=1\n",
    "    else: \n",
    "        error_list_origin.append((ground_true,text0,result[0]))\n",
    "print(sum_origin/len(valid_data))"
   ]
  },
  {
   "cell_type": "code",
   "execution_count": null,
   "metadata": {},
   "outputs": [],
   "source": []
  }
 ],
 "metadata": {
  "kernelspec": {
   "display_name": "Python 3",
   "language": "python",
   "name": "python3"
  },
  "language_info": {
   "codemirror_mode": {
    "name": "ipython",
    "version": 3
   },
   "file_extension": ".py",
   "mimetype": "text/x-python",
   "name": "python",
   "nbconvert_exporter": "python",
   "pygments_lexer": "ipython3",
   "version": "3.5.2"
  }
 },
 "nbformat": 4,
 "nbformat_minor": 2
}
